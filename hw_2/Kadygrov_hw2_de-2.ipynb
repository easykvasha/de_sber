{
  "nbformat": 4,
  "nbformat_minor": 0,
  "metadata": {
    "colab": {
      "provenance": []
    },
    "kernelspec": {
      "name": "python3",
      "display_name": "Python 3"
    },
    "language_info": {
      "name": "python"
    }
  },
  "cells": [
    {
      "cell_type": "code",
      "execution_count": 234,
      "metadata": {
        "colab": {
          "base_uri": "https://localhost:8080/",
          "height": 17
        },
        "id": "JjzgUoRIa18h",
        "outputId": "4006fae1-f40c-4747-be74-686489156bba"
      },
      "outputs": [
        {
          "output_type": "display_data",
          "data": {
            "text/plain": [
              "<IPython.core.display.HTML object>"
            ],
            "text/html": [
              "<style>.container { width:90% !important; }</style>"
            ]
          },
          "metadata": {}
        }
      ],
      "source": [
        "from IPython.core.display import display, HTML\n",
        "display(HTML(\"<style>.container { width:90% !important; }</style>\"))"
      ]
    },
    {
      "cell_type": "code",
      "source": [
        "!pip install pyspark\n",
        "!pip install findspark"
      ],
      "metadata": {
        "colab": {
          "base_uri": "https://localhost:8080/"
        },
        "id": "0LyowFW4bP17",
        "outputId": "48a58f25-624d-4172-e5c4-411eee2db195"
      },
      "execution_count": 235,
      "outputs": [
        {
          "output_type": "stream",
          "name": "stdout",
          "text": [
            "Requirement already satisfied: pyspark in /usr/local/lib/python3.10/dist-packages (3.5.1)\n",
            "Requirement already satisfied: py4j==0.10.9.7 in /usr/local/lib/python3.10/dist-packages (from pyspark) (0.10.9.7)\n",
            "Requirement already satisfied: findspark in /usr/local/lib/python3.10/dist-packages (2.0.1)\n"
          ]
        }
      ]
    },
    {
      "cell_type": "code",
      "source": [
        "import findspark\n",
        "findspark.init()"
      ],
      "metadata": {
        "id": "eMlwpZhUbfny"
      },
      "execution_count": 236,
      "outputs": []
    },
    {
      "cell_type": "code",
      "source": [
        "# import pyspark\n",
        "# from pyspark.context import SparkContext, SparkConf\n",
        "# from pyspark.sql.session import SparkSession\n",
        "# spark = (\n",
        "#     SparkSession\n",
        "#     .builder\n",
        "#     .appName('BIT_01')\n",
        "#     .config('spark.ui.port', '9311')\n",
        "#     .config('spark.executor.memoryOverhead', '1G')\n",
        "#     .config('spark.shuffle.service.enabled', 'true')\n",
        "#     .config('spark.dynamicAllocation.enabled', 'true')\n",
        "#     .config('spark.driver.extraClassPath', '/opt/spark/jars/sqljdbc42.jar')\\\n",
        "#     .config('spark.executor.extraClassPath', '/opt/spark/jars/sqljdbc42.jar')\\\n",
        "#     .getOrCreate()\n",
        "# )"
      ],
      "metadata": {
        "id": "RXx1FbNKbkzb"
      },
      "execution_count": 237,
      "outputs": []
    },
    {
      "cell_type": "code",
      "source": [
        "from pyspark.sql import SparkSession\n",
        "from pyspark.sql import functions as F\n",
        "from pyspark.sql import Window\n",
        "from pyspark.sql.functions import broadcast\n",
        "import pandas as pd\n",
        "import os\n",
        "os.environ[\"PYARROW_IGNORE_TIMEZONE\"] = \"1\" # без этой строчки у нас будет возникать постоянное предупреждение с просьбой установить эту переменную в значение 1, что мы заранее и делаем\n",
        "\n",
        "\n",
        "spark = SparkSession.builder.appName('csv_to_df').getOrCreate()\n",
        "spark.conf.set(\"spark.sql.execution.arrow.pyspark.enabled\", \"true\")\n",
        "spark"
      ],
      "metadata": {
        "colab": {
          "base_uri": "https://localhost:8080/",
          "height": 218
        },
        "id": "kYqwP5VcdW2G",
        "outputId": "f612d0d2-3c46-4ab9-acb6-394c9ce435ee"
      },
      "execution_count": 238,
      "outputs": [
        {
          "output_type": "execute_result",
          "data": {
            "text/plain": [
              "<pyspark.sql.session.SparkSession at 0x7bcdd0166770>"
            ],
            "text/html": [
              "\n",
              "            <div>\n",
              "                <p><b>SparkSession - in-memory</b></p>\n",
              "                \n",
              "        <div>\n",
              "            <p><b>SparkContext</b></p>\n",
              "\n",
              "            <p><a href=\"http://bb5b27e37b12:4040\">Spark UI</a></p>\n",
              "\n",
              "            <dl>\n",
              "              <dt>Version</dt>\n",
              "                <dd><code>v3.5.1</code></dd>\n",
              "              <dt>Master</dt>\n",
              "                <dd><code>local[*]</code></dd>\n",
              "              <dt>AppName</dt>\n",
              "                <dd><code>csv_to_df</code></dd>\n",
              "            </dl>\n",
              "        </div>\n",
              "        \n",
              "            </div>\n",
              "        "
            ]
          },
          "metadata": {},
          "execution_count": 238
        }
      ]
    },
    {
      "cell_type": "markdown",
      "source": [
        "## Чтение обоих csv-файлов в датафреймы и посмотр их схем."
      ],
      "metadata": {
        "id": "6Z64L373eICL"
      }
    },
    {
      "cell_type": "code",
      "source": [
        "customer_df = spark.read.csv('customer.csv',sep=';', header=True, inferSchema=True)\n",
        "transaction_df = spark.read.csv('transaction.csv',sep=';', header=True, inferSchema=True)\n",
        "\n",
        "customer_df.printSchema()\n",
        "transaction_df.printSchema()"
      ],
      "metadata": {
        "colab": {
          "base_uri": "https://localhost:8080/"
        },
        "id": "Qepg3t5cbwS6",
        "outputId": "e993ac22-b757-4b1e-b549-b3d19529b2c2"
      },
      "execution_count": 239,
      "outputs": [
        {
          "output_type": "stream",
          "name": "stdout",
          "text": [
            "root\n",
            " |-- customer_id: integer (nullable = true)\n",
            " |-- first_name: string (nullable = true)\n",
            " |-- last_name: string (nullable = true)\n",
            " |-- gender: string (nullable = true)\n",
            " |-- DOB: date (nullable = true)\n",
            " |-- job_title: string (nullable = true)\n",
            " |-- job_industry_category: string (nullable = true)\n",
            " |-- wealth_segment: string (nullable = true)\n",
            " |-- deceased_indicator: string (nullable = true)\n",
            " |-- owns_car: string (nullable = true)\n",
            " |-- address: string (nullable = true)\n",
            " |-- postcode: integer (nullable = true)\n",
            " |-- state: string (nullable = true)\n",
            " |-- country: string (nullable = true)\n",
            " |-- property_valuation: integer (nullable = true)\n",
            "\n",
            "root\n",
            " |-- transaction_id: integer (nullable = true)\n",
            " |-- product_id: integer (nullable = true)\n",
            " |-- customer_id: integer (nullable = true)\n",
            " |-- transaction_date: string (nullable = true)\n",
            " |-- online_order: boolean (nullable = true)\n",
            " |-- order_status: string (nullable = true)\n",
            " |-- brand: string (nullable = true)\n",
            " |-- product_line: string (nullable = true)\n",
            " |-- product_class: string (nullable = true)\n",
            " |-- product_size: string (nullable = true)\n",
            " |-- list_price: string (nullable = true)\n",
            " |-- standard_cost: string (nullable = true)\n",
            "\n"
          ]
        }
      ]
    },
    {
      "cell_type": "markdown",
      "source": [
        "## Пересохранение данных из csv-файлов в parquet, создание новых датафреймов и посмотр их схем."
      ],
      "metadata": {
        "id": "GCT0u9KPeQzQ"
      }
    },
    {
      "cell_type": "code",
      "source": [
        "customer_df.write.parquet('customer.parquet', mode=\"overwrite\")\n",
        "transaction_df.write.parquet('transaction.parquet', mode=\"overwrite\")\n",
        "\n",
        "customer_df_parquet = spark.read.parquet('customer.parquet')\n",
        "transaction_df_parquet = spark.read.parquet('transaction.parquet')\n",
        "\n",
        "customer_df_parquet.printSchema()\n",
        "transaction_df_parquet.printSchema()"
      ],
      "metadata": {
        "colab": {
          "base_uri": "https://localhost:8080/"
        },
        "id": "1BDS5P9nccEl",
        "outputId": "149cf7f6-e89b-45d8-81ea-617876ef456e"
      },
      "execution_count": 240,
      "outputs": [
        {
          "output_type": "stream",
          "name": "stdout",
          "text": [
            "root\n",
            " |-- customer_id: integer (nullable = true)\n",
            " |-- first_name: string (nullable = true)\n",
            " |-- last_name: string (nullable = true)\n",
            " |-- gender: string (nullable = true)\n",
            " |-- DOB: date (nullable = true)\n",
            " |-- job_title: string (nullable = true)\n",
            " |-- job_industry_category: string (nullable = true)\n",
            " |-- wealth_segment: string (nullable = true)\n",
            " |-- deceased_indicator: string (nullable = true)\n",
            " |-- owns_car: string (nullable = true)\n",
            " |-- address: string (nullable = true)\n",
            " |-- postcode: integer (nullable = true)\n",
            " |-- state: string (nullable = true)\n",
            " |-- country: string (nullable = true)\n",
            " |-- property_valuation: integer (nullable = true)\n",
            "\n",
            "root\n",
            " |-- transaction_id: integer (nullable = true)\n",
            " |-- product_id: integer (nullable = true)\n",
            " |-- customer_id: integer (nullable = true)\n",
            " |-- transaction_date: string (nullable = true)\n",
            " |-- online_order: boolean (nullable = true)\n",
            " |-- order_status: string (nullable = true)\n",
            " |-- brand: string (nullable = true)\n",
            " |-- product_line: string (nullable = true)\n",
            " |-- product_class: string (nullable = true)\n",
            " |-- product_size: string (nullable = true)\n",
            " |-- list_price: string (nullable = true)\n",
            " |-- standard_cost: string (nullable = true)\n",
            "\n"
          ]
        }
      ]
    },
    {
      "cell_type": "markdown",
      "source": [
        "## Пересохранение данных из csv-файла в parquet, партиционируя по дате транзакции, создание нового датафрейма и посмотр его схемы (актуально только для таблицы с транзакциями)\n"
      ],
      "metadata": {
        "id": "NyTVd85ke7ln"
      }
    },
    {
      "cell_type": "code",
      "source": [
        "transaction_df.write.partitionBy('transaction_date').parquet('transaction_partitioned.parquet', mode=\"overwrite\")\n",
        "\n",
        "transaction_df_partitioned = spark.read.parquet('transaction_partitioned.parquet')\n",
        "transaction_df_partitioned.printSchema()"
      ],
      "metadata": {
        "colab": {
          "base_uri": "https://localhost:8080/"
        },
        "id": "JsdOsSvZedTW",
        "outputId": "b78fdf85-e920-4337-e056-2a34f812b3aa"
      },
      "execution_count": 241,
      "outputs": [
        {
          "output_type": "stream",
          "name": "stdout",
          "text": [
            "root\n",
            " |-- transaction_id: integer (nullable = true)\n",
            " |-- product_id: integer (nullable = true)\n",
            " |-- customer_id: integer (nullable = true)\n",
            " |-- online_order: boolean (nullable = true)\n",
            " |-- order_status: string (nullable = true)\n",
            " |-- brand: string (nullable = true)\n",
            " |-- product_line: string (nullable = true)\n",
            " |-- product_class: string (nullable = true)\n",
            " |-- product_size: string (nullable = true)\n",
            " |-- list_price: string (nullable = true)\n",
            " |-- standard_cost: string (nullable = true)\n",
            " |-- transaction_date: string (nullable = true)\n",
            "\n"
          ]
        }
      ]
    },
    {
      "cell_type": "markdown",
      "source": [
        "## Подсчет количества записей для датафреймов из пунктов 1-2 и сравнение их времени выполнения.\n"
      ],
      "metadata": {
        "id": "7Mch2IcSfK2d"
      }
    },
    {
      "cell_type": "code",
      "source": [
        "import time\n",
        "\n",
        "start_time = time.time()\n",
        "customer_csv_count = customer_df.count()\n",
        "print(\"customer CSV count: \", customer_csv_count)\n",
        "print(\"customer CSV count time: \", time.time() - start_time)\n",
        "\n",
        "start_time = time.time()\n",
        "customer_parquet_count = customer_df_parquet.count()\n",
        "print(\"customer Parquet count: \", customer_parquet_count)\n",
        "print(\"customer Parquet count time: \", time.time() - start_time)\n",
        "\n",
        "start_time = time.time()\n",
        "transaction_csv_count = transaction_df.count()\n",
        "print(\"transaction CSV count: \", transaction_csv_count)\n",
        "print(\"transaction CSV count time: \", time.time() - start_time)\n",
        "\n",
        "start_time = time.time()\n",
        "transaction_parquet_count = transaction_df_parquet.count()\n",
        "print(\"transaction Parquet count: \", transaction_parquet_count)\n",
        "print(\"transaction Parquet count time: \", time.time() - start_time)"
      ],
      "metadata": {
        "colab": {
          "base_uri": "https://localhost:8080/"
        },
        "id": "dUdd-9EsfTpc",
        "outputId": "80e3efb9-83c4-45fd-bf1c-ffba73ddb0f7"
      },
      "execution_count": 242,
      "outputs": [
        {
          "output_type": "stream",
          "name": "stdout",
          "text": [
            "customer CSV count:  4000\n",
            "customer CSV count time:  0.18865251541137695\n",
            "customer Parquet count:  4000\n",
            "customer Parquet count time:  0.2645571231842041\n",
            "transaction CSV count:  20000\n",
            "transaction CSV count time:  0.16055512428283691\n",
            "transaction Parquet count:  20000\n",
            "transaction Parquet count time:  0.1544053554534912\n"
          ]
        }
      ]
    },
    {
      "cell_type": "markdown",
      "source": [
        "## Выполнение запросов с таблицами из пункта 1-3 и сравнение время выполнения"
      ],
      "metadata": {
        "id": "YyrcuSOJh9Ps"
      }
    },
    {
      "cell_type": "code",
      "source": [
        "# 1. Вывести количество подтвержденных транзакций по каждому клиенту.\n",
        "def get_confirmed_transactions_count(transaction):\n",
        "    start = time.time()\n",
        "    result = transaction \\\n",
        "        .filter(transaction.order_status == \"Approved\") \\\n",
        "        .groupBy(\"customer_id\") \\\n",
        "        .agg(F.count(\"transaction_id\").alias(\"transaction_count\"))\n",
        "    return result, time.time() - start\n",
        "\n",
        "result_1, time_1 = get_confirmed_transactions_count(transaction_df)\n",
        "result_2, time_2 = get_confirmed_transactions_count(transaction_df_parquet)\n",
        "result_3, time_3 = get_confirmed_transactions_count(transaction_df_partitioned)"
      ],
      "metadata": {
        "id": "Km3IaILghaUn"
      },
      "execution_count": 243,
      "outputs": []
    },
    {
      "cell_type": "code",
      "source": [
        "result_1.orderBy('transaction_count', ascending=False).show(5)\n",
        "print(f'CSV time: {time_1}')\n",
        "result_2.orderBy('transaction_count', ascending=False).show(5)\n",
        "print(f'parquet time: {time_2}')\n",
        "result_3.orderBy('transaction_count', ascending=False).show(5)\n",
        "print(f'partitioned time: {time_3}')"
      ],
      "metadata": {
        "colab": {
          "base_uri": "https://localhost:8080/"
        },
        "id": "hSi4IzcTqE6R",
        "outputId": "ef09e9f4-0e31-4d6a-acf1-fd19c760b505"
      },
      "execution_count": 244,
      "outputs": [
        {
          "output_type": "stream",
          "name": "stdout",
          "text": [
            "+-----------+-----------------+\n",
            "|customer_id|transaction_count|\n",
            "+-----------+-----------------+\n",
            "|       2183|               14|\n",
            "|       1068|               14|\n",
            "|       2476|               14|\n",
            "|        377|               13|\n",
            "|       2464|               13|\n",
            "+-----------+-----------------+\n",
            "only showing top 5 rows\n",
            "\n",
            "CSV time: 0.01901865005493164\n",
            "+-----------+-----------------+\n",
            "|customer_id|transaction_count|\n",
            "+-----------+-----------------+\n",
            "|       2183|               14|\n",
            "|       1068|               14|\n",
            "|       2476|               14|\n",
            "|        377|               13|\n",
            "|       2464|               13|\n",
            "+-----------+-----------------+\n",
            "only showing top 5 rows\n",
            "\n",
            "parquet time: 0.016175270080566406\n",
            "+-----------+-----------------+\n",
            "|customer_id|transaction_count|\n",
            "+-----------+-----------------+\n",
            "|       2183|               14|\n",
            "|       2476|               14|\n",
            "|       1068|               14|\n",
            "|       1140|               13|\n",
            "|       1946|               13|\n",
            "+-----------+-----------------+\n",
            "only showing top 5 rows\n",
            "\n",
            "partitioned time: 0.02044057846069336\n"
          ]
        }
      ]
    },
    {
      "cell_type": "code",
      "source": [
        "# 2. Вывести распределение транзакций по месяцам и сферам деятельности.\n",
        "def get_transactions_distribution(customers_df, transactions_df):\n",
        "    start = time.time()\n",
        "    transactions_with_customer_info = transaction_df.join(customer_df, on=\"customer_id\")\n",
        "    result = transactions_with_customer_info.groupBy(F.month(F.to_timestamp(transaction_df.transaction_date,'dd.MM.yyyy')), \"job_industry_category\").count()\n",
        "    return result, time.time() - start\n",
        "\n",
        "result_1, time_1 = get_transactions_distribution(customer_df, transaction_df)\n",
        "result_2, time_2 = get_transactions_distribution(customer_df_parquet, transaction_df_parquet)"
      ],
      "metadata": {
        "id": "QQlD7N-FseNm"
      },
      "execution_count": 245,
      "outputs": []
    },
    {
      "cell_type": "code",
      "source": [
        "result_1.orderBy('count', ascending=False).show(5)\n",
        "print(f'CSV time: {time_1}')\n",
        "result_2.orderBy('count', ascending=False).show(5)\n",
        "print(f'parquet time: {time_2}')"
      ],
      "metadata": {
        "colab": {
          "base_uri": "https://localhost:8080/"
        },
        "id": "Sfp6Obb9vYi_",
        "outputId": "3b0f2417-fc47-45b9-81b2-b9290739ac2d"
      },
      "execution_count": 246,
      "outputs": [
        {
          "output_type": "stream",
          "name": "stdout",
          "text": [
            "+-------------------------------------------------+---------------------+-----+\n",
            "|month(to_timestamp(transaction_date, dd.MM.yyyy))|job_industry_category|count|\n",
            "+-------------------------------------------------+---------------------+-----+\n",
            "|                                               10|        Manufacturing|  355|\n",
            "|                                               12|   Financial Services|  355|\n",
            "|                                                8|   Financial Services|  352|\n",
            "|                                               11|        Manufacturing|  351|\n",
            "|                                                8|        Manufacturing|  350|\n",
            "+-------------------------------------------------+---------------------+-----+\n",
            "only showing top 5 rows\n",
            "\n",
            "CSV time: 0.046240806579589844\n",
            "+-------------------------------------------------+---------------------+-----+\n",
            "|month(to_timestamp(transaction_date, dd.MM.yyyy))|job_industry_category|count|\n",
            "+-------------------------------------------------+---------------------+-----+\n",
            "|                                               10|        Manufacturing|  355|\n",
            "|                                               12|   Financial Services|  355|\n",
            "|                                                8|   Financial Services|  352|\n",
            "|                                               11|        Manufacturing|  351|\n",
            "|                                                8|        Manufacturing|  350|\n",
            "+-------------------------------------------------+---------------------+-----+\n",
            "only showing top 5 rows\n",
            "\n",
            "parquet time: 0.028032302856445312\n"
          ]
        }
      ]
    },
    {
      "cell_type": "code",
      "source": [
        "df = pd.DataFrame({\n",
        "    'Name': ['get_transactions_distribution'],\n",
        "    'CSV Time': [time_1],\n",
        "    'Parquet Time': [time_2]\n",
        "})"
      ],
      "metadata": {
        "id": "JLFc3V-o2_gk"
      },
      "execution_count": 247,
      "outputs": []
    },
    {
      "cell_type": "code",
      "source": [
        "def get_transactions_distribution(customers_df, transactions_df):\n",
        "    start = time.time()\n",
        "    # Если customers_df достаточно мал, можно использовать broadcast join\n",
        "    transactions_with_customer_info = transaction_df.join(broadcast(customer_df), on=\"customer_id\")\n",
        "    result = transactions_with_customer_info.groupBy(F.month(F.to_timestamp(transaction_df.transaction_date,'dd.MM.yyyy')), \"job_industry_category\").count()\n",
        "    return result, time.time() - start\n",
        "\n",
        "result_1, time_1 = get_transactions_distribution(customer_df, transaction_df)\n",
        "result_2, time_2 = get_transactions_distribution(customer_df_parquet, transaction_df_parquet)\n",
        "\n",
        "result_1.orderBy('count', ascending=False).show(5)\n",
        "print(f'CSV time broadcast: {time_1}')\n",
        "result_2.orderBy('count', ascending=False).show(5)\n",
        "print(f'parquet time broadcast: {time_2}')"
      ],
      "metadata": {
        "colab": {
          "base_uri": "https://localhost:8080/"
        },
        "id": "rI0AwSts0ADp",
        "outputId": "0285e61c-3f9a-4627-b17d-32d99b9130da"
      },
      "execution_count": 248,
      "outputs": [
        {
          "output_type": "stream",
          "name": "stdout",
          "text": [
            "+-------------------------------------------------+---------------------+-----+\n",
            "|month(to_timestamp(transaction_date, dd.MM.yyyy))|job_industry_category|count|\n",
            "+-------------------------------------------------+---------------------+-----+\n",
            "|                                               10|        Manufacturing|  355|\n",
            "|                                               12|   Financial Services|  355|\n",
            "|                                                8|   Financial Services|  352|\n",
            "|                                               11|        Manufacturing|  351|\n",
            "|                                                8|        Manufacturing|  350|\n",
            "+-------------------------------------------------+---------------------+-----+\n",
            "only showing top 5 rows\n",
            "\n",
            "CSV time broadcast: 0.03452444076538086\n",
            "+-------------------------------------------------+---------------------+-----+\n",
            "|month(to_timestamp(transaction_date, dd.MM.yyyy))|job_industry_category|count|\n",
            "+-------------------------------------------------+---------------------+-----+\n",
            "|                                               10|        Manufacturing|  355|\n",
            "|                                               12|   Financial Services|  355|\n",
            "|                                                8|   Financial Services|  352|\n",
            "|                                               11|        Manufacturing|  351|\n",
            "|                                                8|        Manufacturing|  350|\n",
            "+-------------------------------------------------+---------------------+-----+\n",
            "only showing top 5 rows\n",
            "\n",
            "parquet time broadcast: 0.022296667098999023\n"
          ]
        }
      ]
    },
    {
      "cell_type": "code",
      "source": [
        "l = ['get_transactions_distribution_broadcast',time_1, time_2 ]\n",
        "df.loc[len(df)] = l"
      ],
      "metadata": {
        "id": "RN21ywTq3VQz"
      },
      "execution_count": 249,
      "outputs": []
    },
    {
      "cell_type": "code",
      "source": [
        "# 3. Вывести ФИО клиентов, у которых нет транзакций.\n",
        "def get_customers_without_transactions(customers_df, transactions_df):\n",
        "    start = time.time()\n",
        "    customers_with_transactions_df = transactions_df.select(\"customer_id\").distinct()\n",
        "    customers_without_transactions_df = customers_df.join(customers_with_transactions_df, on=\"customer_id\", how=\"leftanti\")\n",
        "    result_df = customers_without_transactions_df.select(F.concat_ws(\" \", \"first_name\", \"last_name\").alias(\"full_name\"))\n",
        "    return result_df, time.time() - start\n",
        "\n",
        "result_1, time_1 = get_customers_without_transactions(customer_df, transaction_df)\n",
        "result_2, time_2 = get_customers_without_transactions(customer_df_parquet, transaction_df_parquet)"
      ],
      "metadata": {
        "id": "BoJ9_kgklQSj"
      },
      "execution_count": 250,
      "outputs": []
    },
    {
      "cell_type": "code",
      "source": [
        "result_1.orderBy('full_name').show(5)\n",
        "print(f'CSV time: {time_1}')\n",
        "result_2.orderBy('full_name').show(5)\n",
        "print(f'parquet time: {time_2}')"
      ],
      "metadata": {
        "colab": {
          "base_uri": "https://localhost:8080/"
        },
        "id": "gm4n-flkwLAE",
        "outputId": "4602839f-91ab-4b7c-9208-a647f5842906"
      },
      "execution_count": 251,
      "outputs": [
        {
          "output_type": "stream",
          "name": "stdout",
          "text": [
            "+---------------+\n",
            "|      full_name|\n",
            "+---------------+\n",
            "|Abby Brownstein|\n",
            "|    Addia Abels|\n",
            "|   Adelice Tams|\n",
            "|   Adler Dredge|\n",
            "|    Adler Teale|\n",
            "+---------------+\n",
            "only showing top 5 rows\n",
            "\n",
            "CSV time: 0.029563426971435547\n",
            "+---------------+\n",
            "|      full_name|\n",
            "+---------------+\n",
            "|Abby Brownstein|\n",
            "|    Addia Abels|\n",
            "|   Adelice Tams|\n",
            "|   Adler Dredge|\n",
            "|    Adler Teale|\n",
            "+---------------+\n",
            "only showing top 5 rows\n",
            "\n",
            "parquet time: 0.024095773696899414\n"
          ]
        }
      ]
    },
    {
      "cell_type": "code",
      "source": [
        "l = ['get_customers_without_transactions',time_1, time_2 ]\n",
        "df.loc[len(df)] = l"
      ],
      "metadata": {
        "id": "DhV3Y9S53gFS"
      },
      "execution_count": 252,
      "outputs": []
    },
    {
      "cell_type": "code",
      "source": [
        "def get_customers_without_transactions(customers_df, transactions_df):\n",
        "    start = time.time()\n",
        "    customers_with_transactions_df = transactions_df.select(\"customer_id\").distinct()\n",
        "    # Если customers_with_transactions_df достаточно мал, можно использовать broadcast join\n",
        "    customers_without_transactions_df = customers_df.join(broadcast(customers_with_transactions_df), on=\"customer_id\", how=\"leftanti\")\n",
        "    result_df = customers_without_transactions_df.select(F.concat_ws(\" \", \"first_name\", \"last_name\").alias(\"full_name\"))\n",
        "    return result_df, time.time() - start\n",
        "\n",
        "result_1, time_1 = get_customers_without_transactions(customer_df, transaction_df)\n",
        "result_2, time_2 = get_customers_without_transactions(customer_df_parquet, transaction_df_parquet)\n",
        "\n",
        "result_1.orderBy('full_name').show(5)\n",
        "print(f'CSV time broadcast: {time_1}')\n",
        "result_2.orderBy('full_name').show(5)\n",
        "print(f'parquet time broadcast: {time_2}')"
      ],
      "metadata": {
        "colab": {
          "base_uri": "https://localhost:8080/"
        },
        "id": "vw2dmIsq0JzF",
        "outputId": "295e247e-5965-42ce-a07d-dadda72519e4"
      },
      "execution_count": 253,
      "outputs": [
        {
          "output_type": "stream",
          "name": "stdout",
          "text": [
            "+---------------+\n",
            "|      full_name|\n",
            "+---------------+\n",
            "|Abby Brownstein|\n",
            "|    Addia Abels|\n",
            "|   Adelice Tams|\n",
            "|   Adler Dredge|\n",
            "|    Adler Teale|\n",
            "+---------------+\n",
            "only showing top 5 rows\n",
            "\n",
            "CSV time broadcast: 0.024186134338378906\n",
            "+---------------+\n",
            "|      full_name|\n",
            "+---------------+\n",
            "|Abby Brownstein|\n",
            "|    Addia Abels|\n",
            "|   Adelice Tams|\n",
            "|   Adler Dredge|\n",
            "|    Adler Teale|\n",
            "+---------------+\n",
            "only showing top 5 rows\n",
            "\n",
            "parquet time broadcast: 0.019626855850219727\n"
          ]
        }
      ]
    },
    {
      "cell_type": "code",
      "source": [
        "l = ['get_customers_without_transactions_broadcast',time_1, time_2 ]\n",
        "df.loc[len(df)] = l"
      ],
      "metadata": {
        "id": "ImAdVavj3iqD"
      },
      "execution_count": 254,
      "outputs": []
    },
    {
      "cell_type": "code",
      "source": [
        "# 4. Найти ФИО клиентов с минимальной/максимальной суммой транзакций (sum(list_price)) за весь период (сумма транзакций не может быть null). Вывод оформить в виде json\n",
        "def get_max_transaction_sum(customers_df, transactions_df):\n",
        "    start = time.time()\n",
        "    transactions = transaction_df.withColumn('list_price', F.col('list_price').cast('double'))\n",
        "    customers = customer_df.withColumn('full_name', F.concat(F.col('first_name'),F.lit(' '), F.col('last_name')).alias('full_name'))\n",
        "    customers = customers.join(transactions, customers.customer_id == transactions.customer_id,'left').filter(F.col('list_price').isNotNull()).filter(F.col('full_name').isNotNull()).groupBy('full_name').agg(F.sum(\"list_price\").alias('total_price'))\n",
        "    max_customer = customers.orderBy('total_price', ascending=False).limit(1).toJSON().collect()[0]\n",
        "    min_customer = customers.orderBy('total_price').limit(1).toJSON().collect()[0]\n",
        "    return [max_customer, min_customer], time.time() - start\n",
        "\n",
        "result_1, time_1 = get_max_transaction_sum(customer_df, transaction_df)\n",
        "result_2, time_2 = get_max_transaction_sum(customer_df_parquet, transaction_df_parquet)"
      ],
      "metadata": {
        "id": "ea1V7yOilhUP"
      },
      "execution_count": 255,
      "outputs": []
    },
    {
      "cell_type": "code",
      "source": [
        "print(result_1)\n",
        "print(f'CSV time: {time_1}')\n",
        "print(result_2)\n",
        "print(f'parquet time: {time_2}')"
      ],
      "metadata": {
        "colab": {
          "base_uri": "https://localhost:8080/"
        },
        "id": "RpHXTZH9xLnu",
        "outputId": "7ab7b731-bc0a-4a21-cbb2-16597ec6cb9b"
      },
      "execution_count": 256,
      "outputs": [
        {
          "output_type": "stream",
          "name": "stdout",
          "text": [
            "['{\"full_name\":\"Barrett Lindley\",\"total_price\":3620.0}', '{\"full_name\":\"Nerissa Foote\",\"total_price\":850.0}']\n",
            "CSV time: 1.2714004516601562\n",
            "['{\"full_name\":\"Barrett Lindley\",\"total_price\":3620.0}', '{\"full_name\":\"Nerissa Foote\",\"total_price\":850.0}']\n",
            "parquet time: 0.9906737804412842\n"
          ]
        }
      ]
    },
    {
      "cell_type": "code",
      "source": [
        "l = ['get_max_transaction_sum',time_1, time_2 ]\n",
        "df.loc[len(df)] = l"
      ],
      "metadata": {
        "id": "411SqVEg3leP"
      },
      "execution_count": 257,
      "outputs": []
    },
    {
      "cell_type": "code",
      "source": [
        "def get_max_transaction_sum(customers_df, transactions_df):\n",
        "    start = time.time()\n",
        "    transactions = transaction_df.withColumn('list_price', F.col('list_price').cast('double'))\n",
        "    customers = customer_df.withColumn('full_name', F.concat(F.col('first_name'),F.lit(' '), F.col('last_name')).alias('full_name'))\n",
        "    # Если customers_df достаточно мал, можно использовать broadcast join\n",
        "    customers = customers.join(broadcast(transactions), customers.customer_id == transactions.customer_id,'left').filter(F.col('list_price').isNotNull()).filter(F.col('full_name').isNotNull()).groupBy('full_name').agg(F.sum(\"list_price\").alias('total_price'))\n",
        "    max_customer = customers.orderBy('total_price', ascending=False).limit(1).toJSON().collect()[0]\n",
        "    min_customer = customers.orderBy('total_price').limit(1).toJSON().collect()[0]\n",
        "    return [max_customer, min_customer], time.time() - start\n",
        "\n",
        "result_1, time_1 = get_max_transaction_sum(customer_df, transaction_df)\n",
        "result_2, time_2 = get_max_transaction_sum(customer_df_parquet, transaction_df_parquet)\n",
        "\n",
        "print(result_1)\n",
        "print(f'CSV time broadcast: {time_1}')\n",
        "print(result_2)\n",
        "print(f'parquet time broadcast: {time_2}')"
      ],
      "metadata": {
        "colab": {
          "base_uri": "https://localhost:8080/"
        },
        "id": "hQViKw990Mtw",
        "outputId": "8cc771a6-6774-45b4-828c-ad3762862d56"
      },
      "execution_count": 258,
      "outputs": [
        {
          "output_type": "stream",
          "name": "stdout",
          "text": [
            "['{\"full_name\":\"Barrett Lindley\",\"total_price\":3620.0}', '{\"full_name\":\"Nerissa Foote\",\"total_price\":850.0}']\n",
            "CSV time broadcast: 1.215149164199829\n",
            "['{\"full_name\":\"Barrett Lindley\",\"total_price\":3620.0}', '{\"full_name\":\"Nerissa Foote\",\"total_price\":850.0}']\n",
            "parquet time broadcast: 1.5200464725494385\n"
          ]
        }
      ]
    },
    {
      "cell_type": "code",
      "source": [
        "l = ['get_max_transaction_sum_broadcast',time_1, time_2 ]\n",
        "df.loc[len(df)] = l"
      ],
      "metadata": {
        "id": "JYBWc3fH3n4r"
      },
      "execution_count": 259,
      "outputs": []
    },
    {
      "cell_type": "code",
      "source": [
        "# 5. Вывести ФИО клиентов, между соседними транзакциями которых был максимальный интервал (интервал вычисляется в днях). Вывод оформить в виде json\n",
        "def max_interval_between_transactions(customer_df, transaction_df):\n",
        "    start = time.time()\n",
        "    transaction_df = transaction_df.withColumn(\"transaction_date\", F.to_date(F.col(\"transaction_date\"), \"dd.MM.yyyy\"))\n",
        "    prev_transaction_df = transaction_df.orderBy(\"customer_id\", \"transaction_date\")\n",
        "    prev_transaction_df = prev_transaction_df.withColumn(\"prev_transaction_date\", F.lag(\"transaction_date\").over(Window.partitionBy(\"customer_id\").orderBy(\"transaction_date\")))\n",
        "    transaction_df = transaction_df.join(prev_transaction_df, [\"customer_id\", \"transaction_date\"], \"left\")\n",
        "    transaction_df = transaction_df.withColumn(\"interval\", F.datediff(\"transaction_date\", \"prev_transaction_date\"))\n",
        "    max_interval_df = transaction_df.orderBy(F.desc(\"interval\")).limit(1)\n",
        "    result_df = max_interval_df.join(customer_df, [\"customer_id\"], \"left\")\n",
        "    result_df = result_df.select(F.col(\"first_name\"), F.col(\"last_name\"), F.col(\"interval\"))\n",
        "    result_json = result_df.toJSON().collect()\n",
        "    return result_json, time.time() - start\n",
        "\n",
        "result_1, time_1 = max_interval_between_transactions(customer_df, transaction_df)\n",
        "result_2, time_2 = max_interval_between_transactions(customer_df_parquet, transaction_df_parquet)"
      ],
      "metadata": {
        "id": "cA7nX5-anrgO"
      },
      "execution_count": 260,
      "outputs": []
    },
    {
      "cell_type": "code",
      "source": [
        "print(result_1)\n",
        "print(f'CSV time: {time_1}')\n",
        "print(result_2)\n",
        "print(f'parquet time: {time_2}')"
      ],
      "metadata": {
        "colab": {
          "base_uri": "https://localhost:8080/"
        },
        "id": "xXIHMQupxeGk",
        "outputId": "13f8811d-f3b8-470b-84c0-3bfda3de8ce6"
      },
      "execution_count": 261,
      "outputs": [
        {
          "output_type": "stream",
          "name": "stdout",
          "text": [
            "['{\"first_name\":\"Susanetta\",\"interval\":357}']\n",
            "CSV time: 2.182856321334839\n",
            "['{\"first_name\":\"Susanetta\",\"interval\":357}']\n",
            "parquet time: 0.8392555713653564\n"
          ]
        }
      ]
    },
    {
      "cell_type": "code",
      "source": [
        "l = ['max_interval_between_transactions',time_1, time_2 ]\n",
        "df.loc[len(df)] = l"
      ],
      "metadata": {
        "id": "d4G5NaSj3saB"
      },
      "execution_count": 262,
      "outputs": []
    },
    {
      "cell_type": "code",
      "source": [
        "def max_interval_between_transactions(customer_df, transaction_df):\n",
        "    start = time.time()\n",
        "    transaction_df = transaction_df.withColumn(\"transaction_date\", F.to_date(F.col(\"transaction_date\"), \"dd.MM.yyyy\"))\n",
        "    prev_transaction_df = transaction_df.orderBy(\"customer_id\", \"transaction_date\")\n",
        "    prev_transaction_df = prev_transaction_df.withColumn(\"prev_transaction_date\", F.lag(\"transaction_date\").over(Window.partitionBy(\"customer_id\").orderBy(\"transaction_date\")))\n",
        "    transaction_df = transaction_df.join(prev_transaction_df, [\"customer_id\", \"transaction_date\"], \"left\")\n",
        "    transaction_df = transaction_df.withColumn(\"interval\", F.datediff(\"transaction_date\", \"prev_transaction_date\"))\n",
        "    max_interval_df = transaction_df.orderBy(F.desc(\"interval\")).limit(1)\n",
        "    # Если customer_df достаточно мал, можно использовать broadcast join\n",
        "    result_df = max_interval_df.join(broadcast(customer_df), [\"customer_id\"], \"left\")\n",
        "    result_df = result_df.select(F.col(\"first_name\"), F.col(\"last_name\"), F.col(\"interval\"))\n",
        "    result_json = result_df.toJSON().collect()\n",
        "    return result_json, time.time() - start\n",
        "\n",
        "result_1, time_1 = max_interval_between_transactions(customer_df, transaction_df)\n",
        "result_2, time_2 = max_interval_between_transactions(customer_df_parquet, transaction_df_parquet)\n",
        "\n",
        "print(result_1)\n",
        "print(f'CSV time broadcast: {time_1}')\n",
        "print(result_2)\n",
        "print(f'parquet time broadcast: {time_2}')"
      ],
      "metadata": {
        "colab": {
          "base_uri": "https://localhost:8080/"
        },
        "id": "GdSmM6TnzJCp",
        "outputId": "9800d59f-a8c7-40d3-94c2-563bd0774069"
      },
      "execution_count": 263,
      "outputs": [
        {
          "output_type": "stream",
          "name": "stdout",
          "text": [
            "['{\"first_name\":\"Susanetta\",\"interval\":357}']\n",
            "CSV time broadcast: 1.1458697319030762\n",
            "['{\"first_name\":\"Susanetta\",\"interval\":357}']\n",
            "parquet time broadcast: 0.8323578834533691\n"
          ]
        }
      ]
    },
    {
      "cell_type": "code",
      "source": [
        "l = ['max_interval_between_transactions_broadcast',time_1, time_2 ]\n",
        "df.loc[len(df)] = l"
      ],
      "metadata": {
        "id": "fML9aVEM0uOr"
      },
      "execution_count": 264,
      "outputs": []
    },
    {
      "cell_type": "code",
      "source": [
        "df"
      ],
      "metadata": {
        "colab": {
          "base_uri": "https://localhost:8080/",
          "height": 300
        },
        "id": "ltcGuxd0xPMN",
        "outputId": "423c16c3-c7ad-4afb-afd3-8a3f1ba1071b"
      },
      "execution_count": 265,
      "outputs": [
        {
          "output_type": "execute_result",
          "data": {
            "text/plain": [
              "                                           Name  CSV Time  Parquet Time\n",
              "0                 get_transactions_distribution  0.046241      0.028032\n",
              "1       get_transactions_distribution_broadcast  0.034524      0.022297\n",
              "2            get_customers_without_transactions  0.029563      0.024096\n",
              "3  get_customers_without_transactions_broadcast  0.024186      0.019627\n",
              "4                       get_max_transaction_sum  1.271400      0.990674\n",
              "5             get_max_transaction_sum_broadcast  1.215149      1.520046\n",
              "6             max_interval_between_transactions  2.182856      0.839256\n",
              "7   max_interval_between_transactions_broadcast  1.145870      0.832358"
            ],
            "text/html": [
              "\n",
              "  <div id=\"df-62858a02-df39-4152-81bf-3bb855c682c6\" class=\"colab-df-container\">\n",
              "    <div>\n",
              "<style scoped>\n",
              "    .dataframe tbody tr th:only-of-type {\n",
              "        vertical-align: middle;\n",
              "    }\n",
              "\n",
              "    .dataframe tbody tr th {\n",
              "        vertical-align: top;\n",
              "    }\n",
              "\n",
              "    .dataframe thead th {\n",
              "        text-align: right;\n",
              "    }\n",
              "</style>\n",
              "<table border=\"1\" class=\"dataframe\">\n",
              "  <thead>\n",
              "    <tr style=\"text-align: right;\">\n",
              "      <th></th>\n",
              "      <th>Name</th>\n",
              "      <th>CSV Time</th>\n",
              "      <th>Parquet Time</th>\n",
              "    </tr>\n",
              "  </thead>\n",
              "  <tbody>\n",
              "    <tr>\n",
              "      <th>0</th>\n",
              "      <td>get_transactions_distribution</td>\n",
              "      <td>0.046241</td>\n",
              "      <td>0.028032</td>\n",
              "    </tr>\n",
              "    <tr>\n",
              "      <th>1</th>\n",
              "      <td>get_transactions_distribution_broadcast</td>\n",
              "      <td>0.034524</td>\n",
              "      <td>0.022297</td>\n",
              "    </tr>\n",
              "    <tr>\n",
              "      <th>2</th>\n",
              "      <td>get_customers_without_transactions</td>\n",
              "      <td>0.029563</td>\n",
              "      <td>0.024096</td>\n",
              "    </tr>\n",
              "    <tr>\n",
              "      <th>3</th>\n",
              "      <td>get_customers_without_transactions_broadcast</td>\n",
              "      <td>0.024186</td>\n",
              "      <td>0.019627</td>\n",
              "    </tr>\n",
              "    <tr>\n",
              "      <th>4</th>\n",
              "      <td>get_max_transaction_sum</td>\n",
              "      <td>1.271400</td>\n",
              "      <td>0.990674</td>\n",
              "    </tr>\n",
              "    <tr>\n",
              "      <th>5</th>\n",
              "      <td>get_max_transaction_sum_broadcast</td>\n",
              "      <td>1.215149</td>\n",
              "      <td>1.520046</td>\n",
              "    </tr>\n",
              "    <tr>\n",
              "      <th>6</th>\n",
              "      <td>max_interval_between_transactions</td>\n",
              "      <td>2.182856</td>\n",
              "      <td>0.839256</td>\n",
              "    </tr>\n",
              "    <tr>\n",
              "      <th>7</th>\n",
              "      <td>max_interval_between_transactions_broadcast</td>\n",
              "      <td>1.145870</td>\n",
              "      <td>0.832358</td>\n",
              "    </tr>\n",
              "  </tbody>\n",
              "</table>\n",
              "</div>\n",
              "    <div class=\"colab-df-buttons\">\n",
              "\n",
              "  <div class=\"colab-df-container\">\n",
              "    <button class=\"colab-df-convert\" onclick=\"convertToInteractive('df-62858a02-df39-4152-81bf-3bb855c682c6')\"\n",
              "            title=\"Convert this dataframe to an interactive table.\"\n",
              "            style=\"display:none;\">\n",
              "\n",
              "  <svg xmlns=\"http://www.w3.org/2000/svg\" height=\"24px\" viewBox=\"0 -960 960 960\">\n",
              "    <path d=\"M120-120v-720h720v720H120Zm60-500h600v-160H180v160Zm220 220h160v-160H400v160Zm0 220h160v-160H400v160ZM180-400h160v-160H180v160Zm440 0h160v-160H620v160ZM180-180h160v-160H180v160Zm440 0h160v-160H620v160Z\"/>\n",
              "  </svg>\n",
              "    </button>\n",
              "\n",
              "  <style>\n",
              "    .colab-df-container {\n",
              "      display:flex;\n",
              "      gap: 12px;\n",
              "    }\n",
              "\n",
              "    .colab-df-convert {\n",
              "      background-color: #E8F0FE;\n",
              "      border: none;\n",
              "      border-radius: 50%;\n",
              "      cursor: pointer;\n",
              "      display: none;\n",
              "      fill: #1967D2;\n",
              "      height: 32px;\n",
              "      padding: 0 0 0 0;\n",
              "      width: 32px;\n",
              "    }\n",
              "\n",
              "    .colab-df-convert:hover {\n",
              "      background-color: #E2EBFA;\n",
              "      box-shadow: 0px 1px 2px rgba(60, 64, 67, 0.3), 0px 1px 3px 1px rgba(60, 64, 67, 0.15);\n",
              "      fill: #174EA6;\n",
              "    }\n",
              "\n",
              "    .colab-df-buttons div {\n",
              "      margin-bottom: 4px;\n",
              "    }\n",
              "\n",
              "    [theme=dark] .colab-df-convert {\n",
              "      background-color: #3B4455;\n",
              "      fill: #D2E3FC;\n",
              "    }\n",
              "\n",
              "    [theme=dark] .colab-df-convert:hover {\n",
              "      background-color: #434B5C;\n",
              "      box-shadow: 0px 1px 3px 1px rgba(0, 0, 0, 0.15);\n",
              "      filter: drop-shadow(0px 1px 2px rgba(0, 0, 0, 0.3));\n",
              "      fill: #FFFFFF;\n",
              "    }\n",
              "  </style>\n",
              "\n",
              "    <script>\n",
              "      const buttonEl =\n",
              "        document.querySelector('#df-62858a02-df39-4152-81bf-3bb855c682c6 button.colab-df-convert');\n",
              "      buttonEl.style.display =\n",
              "        google.colab.kernel.accessAllowed ? 'block' : 'none';\n",
              "\n",
              "      async function convertToInteractive(key) {\n",
              "        const element = document.querySelector('#df-62858a02-df39-4152-81bf-3bb855c682c6');\n",
              "        const dataTable =\n",
              "          await google.colab.kernel.invokeFunction('convertToInteractive',\n",
              "                                                    [key], {});\n",
              "        if (!dataTable) return;\n",
              "\n",
              "        const docLinkHtml = 'Like what you see? Visit the ' +\n",
              "          '<a target=\"_blank\" href=https://colab.research.google.com/notebooks/data_table.ipynb>data table notebook</a>'\n",
              "          + ' to learn more about interactive tables.';\n",
              "        element.innerHTML = '';\n",
              "        dataTable['output_type'] = 'display_data';\n",
              "        await google.colab.output.renderOutput(dataTable, element);\n",
              "        const docLink = document.createElement('div');\n",
              "        docLink.innerHTML = docLinkHtml;\n",
              "        element.appendChild(docLink);\n",
              "      }\n",
              "    </script>\n",
              "  </div>\n",
              "\n",
              "\n",
              "<div id=\"df-4d5baf06-2aef-414c-a2d8-e827d946a42e\">\n",
              "  <button class=\"colab-df-quickchart\" onclick=\"quickchart('df-4d5baf06-2aef-414c-a2d8-e827d946a42e')\"\n",
              "            title=\"Suggest charts\"\n",
              "            style=\"display:none;\">\n",
              "\n",
              "<svg xmlns=\"http://www.w3.org/2000/svg\" height=\"24px\"viewBox=\"0 0 24 24\"\n",
              "     width=\"24px\">\n",
              "    <g>\n",
              "        <path d=\"M19 3H5c-1.1 0-2 .9-2 2v14c0 1.1.9 2 2 2h14c1.1 0 2-.9 2-2V5c0-1.1-.9-2-2-2zM9 17H7v-7h2v7zm4 0h-2V7h2v10zm4 0h-2v-4h2v4z\"/>\n",
              "    </g>\n",
              "</svg>\n",
              "  </button>\n",
              "\n",
              "<style>\n",
              "  .colab-df-quickchart {\n",
              "      --bg-color: #E8F0FE;\n",
              "      --fill-color: #1967D2;\n",
              "      --hover-bg-color: #E2EBFA;\n",
              "      --hover-fill-color: #174EA6;\n",
              "      --disabled-fill-color: #AAA;\n",
              "      --disabled-bg-color: #DDD;\n",
              "  }\n",
              "\n",
              "  [theme=dark] .colab-df-quickchart {\n",
              "      --bg-color: #3B4455;\n",
              "      --fill-color: #D2E3FC;\n",
              "      --hover-bg-color: #434B5C;\n",
              "      --hover-fill-color: #FFFFFF;\n",
              "      --disabled-bg-color: #3B4455;\n",
              "      --disabled-fill-color: #666;\n",
              "  }\n",
              "\n",
              "  .colab-df-quickchart {\n",
              "    background-color: var(--bg-color);\n",
              "    border: none;\n",
              "    border-radius: 50%;\n",
              "    cursor: pointer;\n",
              "    display: none;\n",
              "    fill: var(--fill-color);\n",
              "    height: 32px;\n",
              "    padding: 0;\n",
              "    width: 32px;\n",
              "  }\n",
              "\n",
              "  .colab-df-quickchart:hover {\n",
              "    background-color: var(--hover-bg-color);\n",
              "    box-shadow: 0 1px 2px rgba(60, 64, 67, 0.3), 0 1px 3px 1px rgba(60, 64, 67, 0.15);\n",
              "    fill: var(--button-hover-fill-color);\n",
              "  }\n",
              "\n",
              "  .colab-df-quickchart-complete:disabled,\n",
              "  .colab-df-quickchart-complete:disabled:hover {\n",
              "    background-color: var(--disabled-bg-color);\n",
              "    fill: var(--disabled-fill-color);\n",
              "    box-shadow: none;\n",
              "  }\n",
              "\n",
              "  .colab-df-spinner {\n",
              "    border: 2px solid var(--fill-color);\n",
              "    border-color: transparent;\n",
              "    border-bottom-color: var(--fill-color);\n",
              "    animation:\n",
              "      spin 1s steps(1) infinite;\n",
              "  }\n",
              "\n",
              "  @keyframes spin {\n",
              "    0% {\n",
              "      border-color: transparent;\n",
              "      border-bottom-color: var(--fill-color);\n",
              "      border-left-color: var(--fill-color);\n",
              "    }\n",
              "    20% {\n",
              "      border-color: transparent;\n",
              "      border-left-color: var(--fill-color);\n",
              "      border-top-color: var(--fill-color);\n",
              "    }\n",
              "    30% {\n",
              "      border-color: transparent;\n",
              "      border-left-color: var(--fill-color);\n",
              "      border-top-color: var(--fill-color);\n",
              "      border-right-color: var(--fill-color);\n",
              "    }\n",
              "    40% {\n",
              "      border-color: transparent;\n",
              "      border-right-color: var(--fill-color);\n",
              "      border-top-color: var(--fill-color);\n",
              "    }\n",
              "    60% {\n",
              "      border-color: transparent;\n",
              "      border-right-color: var(--fill-color);\n",
              "    }\n",
              "    80% {\n",
              "      border-color: transparent;\n",
              "      border-right-color: var(--fill-color);\n",
              "      border-bottom-color: var(--fill-color);\n",
              "    }\n",
              "    90% {\n",
              "      border-color: transparent;\n",
              "      border-bottom-color: var(--fill-color);\n",
              "    }\n",
              "  }\n",
              "</style>\n",
              "\n",
              "  <script>\n",
              "    async function quickchart(key) {\n",
              "      const quickchartButtonEl =\n",
              "        document.querySelector('#' + key + ' button');\n",
              "      quickchartButtonEl.disabled = true;  // To prevent multiple clicks.\n",
              "      quickchartButtonEl.classList.add('colab-df-spinner');\n",
              "      try {\n",
              "        const charts = await google.colab.kernel.invokeFunction(\n",
              "            'suggestCharts', [key], {});\n",
              "      } catch (error) {\n",
              "        console.error('Error during call to suggestCharts:', error);\n",
              "      }\n",
              "      quickchartButtonEl.classList.remove('colab-df-spinner');\n",
              "      quickchartButtonEl.classList.add('colab-df-quickchart-complete');\n",
              "    }\n",
              "    (() => {\n",
              "      let quickchartButtonEl =\n",
              "        document.querySelector('#df-4d5baf06-2aef-414c-a2d8-e827d946a42e button');\n",
              "      quickchartButtonEl.style.display =\n",
              "        google.colab.kernel.accessAllowed ? 'block' : 'none';\n",
              "    })();\n",
              "  </script>\n",
              "</div>\n",
              "    </div>\n",
              "  </div>\n"
            ],
            "application/vnd.google.colaboratory.intrinsic+json": {
              "type": "dataframe",
              "variable_name": "df",
              "summary": "{\n  \"name\": \"df\",\n  \"rows\": 8,\n  \"fields\": [\n    {\n      \"column\": \"Name\",\n      \"properties\": {\n        \"dtype\": \"string\",\n        \"num_unique_values\": 8,\n        \"samples\": [\n          \"get_transactions_distribution_broadcast\",\n          \"get_max_transaction_sum_broadcast\",\n          \"get_transactions_distribution\"\n        ],\n        \"semantic_type\": \"\",\n        \"description\": \"\"\n      }\n    },\n    {\n      \"column\": \"CSV Time\",\n      \"properties\": {\n        \"dtype\": \"number\",\n        \"std\": 0.8238163834242557,\n        \"min\": 0.024186134338378906,\n        \"max\": 2.182856321334839,\n        \"num_unique_values\": 8,\n        \"samples\": [\n          0.03452444076538086,\n          1.215149164199829,\n          0.046240806579589844\n        ],\n        \"semantic_type\": \"\",\n        \"description\": \"\"\n      }\n    },\n    {\n      \"column\": \"Parquet Time\",\n      \"properties\": {\n        \"dtype\": \"number\",\n        \"std\": 0.5862057460911655,\n        \"min\": 0.019626855850219727,\n        \"max\": 1.5200464725494385,\n        \"num_unique_values\": 8,\n        \"samples\": [\n          0.022296667098999023,\n          1.5200464725494385,\n          0.028032302856445312\n        ],\n        \"semantic_type\": \"\",\n        \"description\": \"\"\n      }\n    }\n  ]\n}"
            }
          },
          "metadata": {},
          "execution_count": 265
        }
      ]
    },
    {
      "cell_type": "markdown",
      "source": [
        "## Как можно видеть, broadcast и правда все ускоряет\n",
        "\n"
      ],
      "metadata": {
        "id": "Jy1_8hUE5PRH"
      }
    }
  ]
}